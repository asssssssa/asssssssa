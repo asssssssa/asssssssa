{
 "cells": [
  {
   "cell_type": "code",
   "execution_count": 1,
   "metadata": {},
   "outputs": [],
   "source": [
    "import numpy as np\n",
    "import pandas as pd\n",
    "import matplotlib\n",
    "import matplotlib.pyplot as plt\n",
    "import seaborn as sns\n",
    "from operator import itemgetter\n",
    "\n",
    "%matplotlib inline"
   ]
  },
  {
   "cell_type": "code",
   "execution_count": 2,
   "metadata": {},
   "outputs": [],
   "source": [
    "train_data = pd.read_csv('data/used_car_train_20200313.csv',sep=' ')\n",
    "test_data = pd.read_csv('data/used_car_testA_20200313.csv',sep=' ')"
   ]
  },
  {
   "cell_type": "code",
   "execution_count": 3,
   "metadata": {},
   "outputs": [
    {
     "name": "stdout",
     "output_type": "stream",
     "text": [
      "(150000, 31)\n",
      "(50000, 30)\n"
     ]
    }
   ],
   "source": [
    "print(train_data.shape)\n",
    "print(test_data.shape)"
   ]
  },
  {
   "cell_type": "code",
   "execution_count": 4,
   "metadata": {},
   "outputs": [
    {
     "data": {
      "text/plain": [
       "Index(['SaleID', 'name', 'regDate', 'model', 'brand', 'bodyType', 'fuelType',\n",
       "       'gearbox', 'power', 'kilometer', 'notRepairedDamage', 'regionCode',\n",
       "       'seller', 'offerType', 'creatDate', 'price', 'v_0', 'v_1', 'v_2', 'v_3',\n",
       "       'v_4', 'v_5', 'v_6', 'v_7', 'v_8', 'v_9', 'v_10', 'v_11', 'v_12',\n",
       "       'v_13', 'v_14'],\n",
       "      dtype='object')"
      ]
     },
     "execution_count": 4,
     "metadata": {},
     "output_type": "execute_result"
    }
   ],
   "source": [
    "train_data.columns"
   ]
  },
  {
   "cell_type": "code",
   "execution_count": 5,
   "metadata": {},
   "outputs": [
    {
     "data": {
      "text/plain": [
       "Index(['SaleID', 'name', 'regDate', 'model', 'brand', 'bodyType', 'fuelType',\n",
       "       'gearbox', 'power', 'kilometer', 'notRepairedDamage', 'regionCode',\n",
       "       'seller', 'offerType', 'creatDate', 'v_0', 'v_1', 'v_2', 'v_3', 'v_4',\n",
       "       'v_5', 'v_6', 'v_7', 'v_8', 'v_9', 'v_10', 'v_11', 'v_12', 'v_13',\n",
       "       'v_14'],\n",
       "      dtype='object')"
      ]
     },
     "execution_count": 5,
     "metadata": {},
     "output_type": "execute_result"
    }
   ],
   "source": [
    "test_data.columns"
   ]
  },
  {
   "cell_type": "markdown",
   "metadata": {},
   "source": [
    "### 用箱线图删除异常值"
   ]
  },
  {
   "cell_type": "code",
   "execution_count": null,
   "metadata": {},
   "outputs": [],
   "source": []
  },
  {
   "cell_type": "code",
   "execution_count": 6,
   "metadata": {},
   "outputs": [],
   "source": [
    "def outliers_proc(data, col_name, scale=3):\n",
    "    \n",
    "    def box_plot_outliers(data_ser,box_scale):\n",
    "        iqr = box_scale * (data_ser.quantile(0.75) - data_ser.quantile(0.25))\n",
    "        val_low = data_ser.quantile(0.25) - iqr\n",
    "        val_up = data_ser.quantile(0.75) + iqr\n",
    "        rule_low = (data_ser < val_low)\n",
    "        rule_up = (data_ser > val_up)\n",
    "        return (rule_low,rule_up),(val_low,val_up)\n",
    "    \n",
    "    data_n = data.copy()\n",
    "    data_series = data_n[col_name]\n",
    "    rule,value = box_plot_outliers(data_series,box_scale=scale)\n",
    "    index = np.arange(data_series.shape[0])[rule[0]|rule[1]]\n",
    "    print('Delete number is:{}'.format(len(index)))\n",
    "    data_n = data_n.drop(index)\n",
    "    data_n.reset_index(drop=True,inplace=True)\n",
    "    print('Now column number is:{}'.format(data_n.shape[0]))\n",
    "    index_low = np.arange(data_series.shape[0])[rule[0]]\n",
    "    outliers = data_series.iloc[index_low]\n",
    "    print('Description of data less than the lower bound is:')\n",
    "    print(pd.Series(outliers).describe())\n",
    "    index_up = np.arange(data_series.shape[0])[rule[1]]\n",
    "    lowliers = data_series.iloc[index_up]\n",
    "    print('Description of data larger than the upper bound is:')\n",
    "    print(pd.Series(lowliers).describe())\n",
    "    \n",
    "    fig,ax = plt.subplots(1,2,figsize=(10,7))\n",
    "    sns.boxplot(y=data[col_name],data=data,palette='Set1',ax=ax[0])\n",
    "    sns.boxplot(y=data_n[col_name],data=data_n,palette='Set1',ax=ax[1])\n",
    "    return data_n"
   ]
  },
  {
   "cell_type": "code",
   "execution_count": 7,
   "metadata": {},
   "outputs": [
    {
     "name": "stdout",
     "output_type": "stream",
     "text": [
      "Delete number is:963\n",
      "Now column number is:149037\n",
      "Description of data less than the lower bound is:\n",
      "count    0.0\n",
      "mean     NaN\n",
      "std      NaN\n",
      "min      NaN\n",
      "25%      NaN\n",
      "50%      NaN\n",
      "75%      NaN\n",
      "max      NaN\n",
      "Name: power, dtype: float64\n",
      "Description of data larger than the upper bound is:\n",
      "count      963.000000\n",
      "mean       846.836968\n",
      "std       1929.418081\n",
      "min        376.000000\n",
      "25%        400.000000\n",
      "50%        436.000000\n",
      "75%        514.000000\n",
      "max      19312.000000\n",
      "Name: power, dtype: float64\n"
     ]
    },
    {
     "data": {
      "image/png": "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\n",
      "text/plain": [
       "<Figure size 720x504 with 2 Axes>"
      ]
     },
     "metadata": {
      "needs_background": "light"
     },
     "output_type": "display_data"
    }
   ],
   "source": [
    "train_data = outliers_proc(train_data,'power')"
   ]
  },
  {
   "cell_type": "markdown",
   "metadata": {},
   "source": [
    "##### 第一张图是没有删除异常值的箱线图，第二张图是删除异常值以后的箱线图"
   ]
  },
  {
   "cell_type": "markdown",
   "metadata": {},
   "source": [
    "## 特征构造"
   ]
  },
  {
   "cell_type": "code",
   "execution_count": 8,
   "metadata": {},
   "outputs": [
    {
     "name": "stderr",
     "output_type": "stream",
    }
   ],
   "source": [
    "train_data['train'] = 1\n",
    "test_data['train'] = 0\n",
    "data = pd.concat([train_data,test_data],ignore_index=True)"
   ]
  },
  {
   "cell_type": "code",
   "execution_count": 9,
   "metadata": {},
   "outputs": [
    {
     "data": {
      "text/plain": [
       "0         20160404\n",
       "1         20160309\n",
       "2         20160402\n",
       "3         20160312\n",
       "4         20160313\n",
       "            ...   \n",
       "199032    20160320\n",
       "199033    20160329\n",
       "199034    20160305\n",
       "199035    20160404\n",
       "199036    20160322\n",
       "Name: creatDate, Length: 199037, dtype: int64"
      ]
     },
     "execution_count": 9,
     "metadata": {},
     "output_type": "execute_result"
    }
   ],
   "source": [
    "data['creatDate']"
   ]
  },
  {
   "cell_type": "code",
   "execution_count": 10,
   "metadata": {},
   "outputs": [
    {
     "data": {
      "text/plain": [
       "0         20040402\n",
       "1         20030301\n",
       "2         20040403\n",
       "3         19960908\n",
       "4         20120103\n",
       "            ...   \n",
       "199032    19960503\n",
       "199033    19991011\n",
       "199034    20040412\n",
       "199035    20020008\n",
       "199036    20041109\n",
       "Name: regDate, Length: 199037, dtype: int64"
      ]
     },
     "execution_count": 10,
     "metadata": {},
     "output_type": "execute_result"
    }
   ],
   "source": [
    "data['regDate']"
   ]
  },
  {
   "cell_type": "code",
   "execution_count": 11,
   "metadata": {},
   "outputs": [],
   "source": [
    "#新增一列使用时间\n",
    "data['used_time'] = (pd.to_datetime(data['creatDate'],format='%Y%m%d',errors='coerce')-pd.to_datetime(data['regDate'],format='%Y%m%d',errors='coerce')).dt.days"
   ]
  },
  {
   "cell_type": "code",
   "execution_count": 12,
   "metadata": {},
   "outputs": [
    {
     "data": {
      "text/plain": [
       "15072"
      ]
     },
     "execution_count": 12,
     "metadata": {},
     "output_type": "execute_result"
    }
   ],
   "source": [
    "data['used_time'].isnull().sum()"
   ]
  },
  {
   "cell_type": "code",
   "execution_count": 13,
   "metadata": {},
   "outputs": [],
   "source": [
    "#邮编信息\n",
    "data['city'] = data['regionCode'].apply(lambda x : str(x)[:-3])\n",
    "data = data"
   ]
  },
  {
   "cell_type": "code",
   "execution_count": 14,
   "metadata": {},
   "outputs": [
    {
     "data": {
      "text/plain": [
       "0         1\n",
       "1         4\n",
       "2         2\n",
       "3          \n",
       "4         6\n",
       "         ..\n",
       "199032    3\n",
       "199033    1\n",
       "199034    3\n",
       "199035    1\n",
       "199036    3\n",
       "Name: city, Length: 199037, dtype: object"
      ]
     },
     "execution_count": 14,
     "metadata": {},
     "output_type": "execute_result"
    }
   ],
   "source": [
    "data['city']"
   ]
  },
  {
   "cell_type": "code",
   "execution_count": 15,
   "metadata": {},
   "outputs": [
    {
     "data": {
      "text/plain": [
       "40"
      ]
     },
     "execution_count": 15,
     "metadata": {},
     "output_type": "execute_result"
    }
   ],
   "source": [
    "len(data['brand'].value_counts())"
   ]
  },
  {
   "cell_type": "code",
   "execution_count": 16,
   "metadata": {},
   "outputs": [],
   "source": [
    "#计算品牌的销售量\n",
    "train_gb = train_data.groupby('brand')\n",
    "all_info = {}\n",
    "for kind,kind_data in train_gb:\n",
    "    info = {}\n",
    "    kind_data = kind_data[kind_data['price'] > 0]\n",
    "    info['brand_amount'] = len(kind_data)\n",
    "    info['brand_price_max'] = kind_data.price.max()\n",
    "    info['brand_price_min'] = kind_data.price.min()\n",
    "    info['brand_price_median'] = kind_data.price.median()\n",
    "    info['brand_price_sum'] = kind_data.price.sum()\n",
    "    info['brand_price_std'] = kind_data.price.std()\n",
    "    info['brand_price_average'] = round(kind_data.price.sum() / (len(kind_data) + 1),2)\n",
    "    all_info[kind] = info"
   ]
  },
  {
   "cell_type": "code",
   "execution_count": 17,
   "metadata": {},
   "outputs": [
    {
     "data": {
      "text/plain": [
       "{0: {'brand_amount': 31429,\n",
       "  'brand_price_max': 68500,\n",
       "  'brand_price_min': 13,\n",
       "  'brand_price_median': 3199.0,\n",
       "  'brand_price_sum': 173719698,\n",
       "  'brand_price_std': 6261.371627193848,\n",
       "  'brand_price_average': 5527.19},\n",
       " 1: {'brand_amount': 13656,\n",
       "  'brand_price_max': 84000,\n",
       "  'brand_price_min': 15,\n",
       "  'brand_price_median': 6399.0,\n",
       "  'brand_price_sum': 124044603,\n",
       "  'brand_price_std': 8988.865406006897,\n",
       "  'brand_price_average': 9082.86},\n",
       " 2: {'brand_amount': 318,\n",
       "  'brand_price_max': 55800,\n",
       "  'brand_price_min': 35,\n",
       "  'brand_price_median': 7500.0,\n",
       "  'brand_price_sum': 3766241,\n",
       "  'brand_price_std': 10576.224443852676,\n",
       "  'brand_price_average': 11806.4},\n",
       " 3: {'brand_amount': 2461,\n",
       "  'brand_price_max': 37500,\n",
       "  'brand_price_min': 65,\n",
       "  'brand_price_median': 4990.0,\n",
       "  'brand_price_sum': 15954226,\n",
       "  'brand_price_std': 5396.32750326748,\n",
       "  'brand_price_average': 6480.19},\n",
       " 4: {'brand_amount': 16575,\n",
       "  'brand_price_max': 99999,\n",
       "  'brand_price_min': 12,\n",
       "  'brand_price_median': 5999.0,\n",
       "  'brand_price_sum': 138279069,\n",
       "  'brand_price_std': 8089.863294699394,\n",
       "  'brand_price_average': 8342.13},\n",
       " 5: {'brand_amount': 4662,\n",
       "  'brand_price_max': 31500,\n",
       "  'brand_price_min': 20,\n",
       "  'brand_price_median': 2300.0,\n",
       "  'brand_price_sum': 15414322,\n",
       "  'brand_price_std': 3344.689762728696,\n",
       "  'brand_price_average': 3305.67},\n",
       " 6: {'brand_amount': 10193,\n",
       "  'brand_price_max': 35990,\n",
       "  'brand_price_min': 13,\n",
       "  'brand_price_median': 1800.0,\n",
       "  'brand_price_sum': 36457518,\n",
       "  'brand_price_std': 4562.233330501051,\n",
       "  'brand_price_average': 3576.37},\n",
       " 7: {'brand_amount': 2360,\n",
       "  'brand_price_max': 38900,\n",
       "  'brand_price_min': 60,\n",
       "  'brand_price_median': 2600.0,\n",
       "  'brand_price_sum': 9905909,\n",
       "  'brand_price_std': 4752.5841539229505,\n",
       "  'brand_price_average': 4195.64},\n",
       " 8: {'brand_amount': 2070,\n",
       "  'brand_price_max': 99999,\n",
       "  'brand_price_min': 30,\n",
       "  'brand_price_median': 2270.0,\n",
       "  'brand_price_sum': 10017173,\n",
       "  'brand_price_std': 6053.233424328857,\n",
       "  'brand_price_average': 4836.88},\n",
       " 9: {'brand_amount': 7299,\n",
       "  'brand_price_max': 68530,\n",
       "  'brand_price_min': 50,\n",
       "  'brand_price_median': 1400.0,\n",
       "  'brand_price_sum': 17805271,\n",
       "  'brand_price_std': 2975.342883550469,\n",
       "  'brand_price_average': 2439.08},\n",
       " 10: {'brand_amount': 13994,\n",
       "  'brand_price_max': 92900,\n",
       "  'brand_price_min': 15,\n",
       "  'brand_price_median': 5200.0,\n",
       "  'brand_price_sum': 113034210,\n",
       "  'brand_price_std': 8244.695287191224,\n",
       "  'brand_price_average': 8076.76},\n",
       " 11: {'brand_amount': 2944,\n",
       "  'brand_price_max': 34500,\n",
       "  'brand_price_min': 30,\n",
       "  'brand_price_median': 2900.0,\n",
       "  'brand_price_sum': 13398006,\n",
       "  'brand_price_std': 4722.16049194639,\n",
       "  'brand_price_average': 4549.41},\n",
       " 12: {'brand_amount': 1108,\n",
       "  'brand_price_max': 27490,\n",
       "  'brand_price_min': 50,\n",
       "  'brand_price_median': 2625.0,\n",
       "  'brand_price_sum': 4494303,\n",
       "  'brand_price_std': 4066.9599503636523,\n",
       "  'brand_price_average': 4052.57},\n",
       " 13: {'brand_amount': 3813,\n",
       "  'brand_price_max': 35000,\n",
       "  'brand_price_min': 20,\n",
       "  'brand_price_median': 1600.0,\n",
       "  'brand_price_sum': 10675790,\n",
       "  'brand_price_std': 3073.9151958492344,\n",
       "  'brand_price_average': 2799.11},\n",
       " 14: {'brand_amount': 16073,\n",
       "  'brand_price_max': 38990,\n",
       "  'brand_price_min': 12,\n",
       "  'brand_price_median': 1700.0,\n",
       "  'brand_price_sum': 49076652,\n",
       "  'brand_price_std': 3605.595126524859,\n",
       "  'brand_price_average': 3053.17},\n",
       " 15: {'brand_amount': 1458,\n",
       "  'brand_price_max': 45000,\n",
       "  'brand_price_min': 100,\n",
       "  'brand_price_median': 8500.0,\n",
       "  'brand_price_sum': 14373814,\n",
       "  'brand_price_std': 5425.058139699541,\n",
       "  'brand_price_average': 9851.83},\n",
       " 16: {'brand_amount': 2219,\n",
       "  'brand_price_max': 17900,\n",
       "  'brand_price_min': 20,\n",
       "  'brand_price_median': 2999.0,\n",
       "  'brand_price_sum': 8078352,\n",
       "  'brand_price_std': 2450.9060888382096,\n",
       "  'brand_price_average': 3638.9},\n",
       " 17: {'brand_amount': 913,\n",
       "  'brand_price_max': 55800,\n",
       "  'brand_price_min': 15,\n",
       "  'brand_price_median': 2200.0,\n",
       "  'brand_price_sum': 3328679,\n",
       "  'brand_price_std': 3952.913329849266,\n",
       "  'brand_price_average': 3641.88},\n",
       " 18: {'brand_amount': 315,\n",
       "  'brand_price_max': 34599,\n",
       "  'brand_price_min': 50,\n",
       "  'brand_price_median': 1999.0,\n",
       "  'brand_price_sum': 1519049,\n",
       "  'brand_price_std': 6358.409760941774,\n",
       "  'brand_price_average': 4807.12},\n",
       " 19: {'brand_amount': 1386,\n",
       "  'brand_price_max': 42350,\n",
       "  'brand_price_min': 20,\n",
       "  'brand_price_median': 2800.0,\n",
       "  'brand_price_sum': 7228288,\n",
       "  'brand_price_std': 6186.538948997005,\n",
       "  'brand_price_average': 5211.45},\n",
       " 20: {'brand_amount': 1235,\n",
       "  'brand_price_max': 37800,\n",
       "  'brand_price_min': 15,\n",
       "  'brand_price_median': 1750.0,\n",
       "  'brand_price_sum': 4292737,\n",
       "  'brand_price_std': 4400.529809043852,\n",
       "  'brand_price_average': 3473.09},\n",
       " 21: {'brand_amount': 1546,\n",
       "  'brand_price_max': 35999,\n",
       "  'brand_price_min': 50,\n",
       "  'brand_price_median': 4225.0,\n",
       "  'brand_price_sum': 8856481,\n",
       "  'brand_price_std': 5257.235025504735,\n",
       "  'brand_price_average': 5724.94},\n",
       " 22: {'brand_amount': 1085,\n",
       "  'brand_price_max': 43900,\n",
       "  'brand_price_min': 50,\n",
       "  'brand_price_median': 3950.0,\n",
       "  'brand_price_sum': 6543426,\n",
       "  'brand_price_std': 5877.140886263793,\n",
       "  'brand_price_average': 6025.25},\n",
       " 23: {'brand_amount': 183,\n",
       "  'brand_price_max': 64000,\n",
       "  'brand_price_min': 99,\n",
       "  'brand_price_median': 1200.0,\n",
       "  'brand_price_sum': 597132,\n",
       "  'brand_price_std': 7333.695140365304,\n",
       "  'brand_price_average': 3245.28},\n",
       " 24: {'brand_amount': 630,\n",
       "  'brand_price_max': 99999,\n",
       "  'brand_price_min': 15,\n",
       "  'brand_price_median': 27450.0,\n",
       "  'brand_price_sum': 20422776,\n",
       "  'brand_price_std': 19855.495201252004,\n",
       "  'brand_price_average': 32365.73},\n",
       " 25: {'brand_amount': 2059,\n",
       "  'brand_price_max': 22500,\n",
       "  'brand_price_min': 25,\n",
       "  'brand_price_median': 2500.0,\n",
       "  'brand_price_sum': 7515546,\n",
       "  'brand_price_std': 3556.2498385463,\n",
       "  'brand_price_average': 3648.32},\n",
       " 26: {'brand_amount': 878,\n",
       "  'brand_price_max': 99999,\n",
       "  'brand_price_min': 11,\n",
       "  'brand_price_median': 5000.0,\n",
       "  'brand_price_sum': 7242792,\n",
       "  'brand_price_std': 10282.98727383031,\n",
       "  'brand_price_average': 8239.81},\n",
       " 27: {'brand_amount': 2049,\n",
       "  'brand_price_max': 62900,\n",
       "  'brand_price_min': 35,\n",
       "  'brand_price_median': 4200.0,\n",
       "  'brand_price_sum': 10862559,\n",
       "  'brand_price_std': 4853.289239604342,\n",
       "  'brand_price_average': 5298.81},\n",
       " 28: {'brand_amount': 633,\n",
       "  'brand_price_max': 39900,\n",
       "  'brand_price_min': 80,\n",
       "  'brand_price_median': 3790.0,\n",
       "  'brand_price_sum': 3373957,\n",
       "  'brand_price_std': 4509.03630065389,\n",
       "  'brand_price_average': 5321.7},\n",
       " 29: {'brand_amount': 406,\n",
       "  'brand_price_max': 19990,\n",
       "  'brand_price_min': 500,\n",
       "  'brand_price_median': 5250.0,\n",
       "  'brand_price_sum': 2459028,\n",
       "  'brand_price_std': 3639.7377221985953,\n",
       "  'brand_price_average': 6041.84},\n",
       " 30: {'brand_amount': 940,\n",
       "  'brand_price_max': 23200,\n",
       "  'brand_price_min': 50,\n",
       "  'brand_price_median': 3295.0,\n",
       "  'brand_price_sum': 3939145,\n",
       "  'brand_price_std': 3659.577291449609,\n",
       "  'brand_price_average': 4186.13},\n",
       " 31: {'brand_amount': 318,\n",
       "  'brand_price_max': 11000,\n",
       "  'brand_price_min': 50,\n",
       "  'brand_price_median': 1000.0,\n",
       "  'brand_price_sum': 560155,\n",
       "  'brand_price_std': 1829.0792114585884,\n",
       "  'brand_price_average': 1755.97},\n",
       " 32: {'brand_amount': 588,\n",
       "  'brand_price_max': 33500,\n",
       "  'brand_price_min': 50,\n",
       "  'brand_price_median': 2350.0,\n",
       "  'brand_price_sum': 2360095,\n",
       "  'brand_price_std': 4394.596002169336,\n",
       "  'brand_price_average': 4006.95},\n",
       " 33: {'brand_amount': 201,\n",
       "  'brand_price_max': 65000,\n",
       "  'brand_price_min': 980,\n",
       "  'brand_price_median': 5600.0,\n",
       "  'brand_price_sum': 1839801,\n",
       "  'brand_price_std': 9637.135323460314,\n",
       "  'brand_price_average': 9107.93},\n",
       " 34: {'brand_amount': 227,\n",
       "  'brand_price_max': 2900,\n",
       "  'brand_price_min': 60,\n",
       "  'brand_price_median': 999.0,\n",
       "  'brand_price_sum': 231776,\n",
       "  'brand_price_std': 554.1184445887935,\n",
       "  'brand_price_average': 1016.56},\n",
       " 35: {'brand_amount': 180,\n",
       "  'brand_price_max': 28900,\n",
       "  'brand_price_min': 50,\n",
       "  'brand_price_median': 950.0,\n",
       "  'brand_price_sum': 297977,\n",
       "  'brand_price_std': 3325.9333650788553,\n",
       "  'brand_price_average': 1646.28},\n",
       " 36: {'brand_amount': 228,\n",
       "  'brand_price_max': 20900,\n",
       "  'brand_price_min': 150,\n",
       "  'brand_price_median': 2250.0,\n",
       "  'brand_price_sum': 816001,\n",
       "  'brand_price_std': 3922.7153885654966,\n",
       "  'brand_price_average': 3563.32},\n",
       " 37: {'brand_amount': 331,\n",
       "  'brand_price_max': 86500,\n",
       "  'brand_price_min': 550,\n",
       "  'brand_price_median': 13250.0,\n",
       "  'brand_price_sum': 5371844,\n",
       "  'brand_price_std': 13541.180315243788,\n",
       "  'brand_price_average': 16180.25},\n",
       " 38: {'brand_amount': 65,\n",
       "  'brand_price_max': 8999,\n",
       "  'brand_price_min': 99,\n",
       "  'brand_price_median': 2850.0,\n",
       "  'brand_price_sum': 215620,\n",
       "  'brand_price_std': 2140.083145064336,\n",
       "  'brand_price_average': 3266.97},\n",
       " 39: {'brand_amount': 9,\n",
       "  'brand_price_max': 14500,\n",
       "  'brand_price_min': 750,\n",
       "  'brand_price_median': 1900.0,\n",
       "  'brand_price_sum': 39480,\n",
       "  'brand_price_std': 5520.867232600327,\n",
       "  'brand_price_average': 3948.0}}"
      ]
     },
     "execution_count": 17,
     "metadata": {},
     "output_type": "execute_result"
    }
   ],
   "source": [
    "all_info"
   ]
  },
  {
   "cell_type": "code",
   "execution_count": 18,
   "metadata": {},
   "outputs": [
    {
     "data": {
      "text/html": [
       "<div>\n",
       "<style scoped>\n",
       "    .dataframe tbody tr th:only-of-type {\n",
       "        vertical-align: middle;\n",
       "    }\n",
       "\n",
       "    .dataframe tbody tr th {\n",
       "        vertical-align: top;\n",
       "    }\n",
       "\n",
       "    .dataframe thead th {\n",
       "        text-align: right;\n",
       "    }\n",
       "</style>\n",
       "<table border=\"1\" class=\"dataframe\">\n",
       "  <thead>\n",
       "    <tr style=\"text-align: right;\">\n",
       "      <th></th>\n",
       "      <th>SaleID</th>\n",
       "      <th>bodyType</th>\n",
       "      <th>brand</th>\n",
       "      <th>creatDate</th>\n",
       "      <th>fuelType</th>\n",
       "      <th>gearbox</th>\n",
       "      <th>kilometer</th>\n",
       "      <th>model</th>\n",
       "      <th>name</th>\n",
       "      <th>notRepairedDamage</th>\n",
       "      <th>...</th>\n",
       "      <th>v_9</th>\n",
       "      <th>used_time</th>\n",
       "      <th>city</th>\n",
       "      <th>brand_amount</th>\n",
       "      <th>brand_price_max</th>\n",
       "      <th>brand_price_min</th>\n",
       "      <th>brand_price_median</th>\n",
       "      <th>brand_price_sum</th>\n",
       "      <th>brand_price_std</th>\n",
       "      <th>brand_price_average</th>\n",
       "    </tr>\n",
       "  </thead>\n",
       "  <tbody>\n",
       "    <tr>\n",
       "      <th>0</th>\n",
       "      <td>0</td>\n",
       "      <td>1.0</td>\n",
       "      <td>6</td>\n",
       "      <td>20160404</td>\n",
       "      <td>0.0</td>\n",
       "      <td>0.0</td>\n",
       "      <td>12.5</td>\n",
       "      <td>30.0</td>\n",
       "      <td>736</td>\n",
       "      <td>0.0</td>\n",
       "      <td>...</td>\n",
       "      <td>0.097462</td>\n",
       "      <td>4385.0</td>\n",
       "      <td>1</td>\n",
       "      <td>10193.0</td>\n",
       "      <td>35990.0</td>\n",
       "      <td>13.0</td>\n",
       "      <td>1800.0</td>\n",
       "      <td>36457518.0</td>\n",
       "      <td>4562.233331</td>\n",
       "      <td>3576.37</td>\n",
       "    </tr>\n",
       "    <tr>\n",
       "      <th>1</th>\n",
       "      <td>1</td>\n",
       "      <td>2.0</td>\n",
       "      <td>1</td>\n",
       "      <td>20160309</td>\n",
       "      <td>0.0</td>\n",
       "      <td>0.0</td>\n",
       "      <td>15.0</td>\n",
       "      <td>40.0</td>\n",
       "      <td>2262</td>\n",
       "      <td>-</td>\n",
       "      <td>...</td>\n",
       "      <td>0.020582</td>\n",
       "      <td>4757.0</td>\n",
       "      <td>4</td>\n",
       "      <td>13656.0</td>\n",
       "      <td>84000.0</td>\n",
       "      <td>15.0</td>\n",
       "      <td>6399.0</td>\n",
       "      <td>124044603.0</td>\n",
       "      <td>8988.865406</td>\n",
       "      <td>9082.86</td>\n",
       "    </tr>\n",
       "    <tr>\n",
       "      <th>2</th>\n",
       "      <td>2</td>\n",
       "      <td>1.0</td>\n",
       "      <td>15</td>\n",
       "      <td>20160402</td>\n",
       "      <td>0.0</td>\n",
       "      <td>0.0</td>\n",
       "      <td>12.5</td>\n",
       "      <td>115.0</td>\n",
       "      <td>14874</td>\n",
       "      <td>0.0</td>\n",
       "      <td>...</td>\n",
       "      <td>0.027075</td>\n",
       "      <td>4382.0</td>\n",
       "      <td>2</td>\n",
       "      <td>1458.0</td>\n",
       "      <td>45000.0</td>\n",
       "      <td>100.0</td>\n",
       "      <td>8500.0</td>\n",
       "      <td>14373814.0</td>\n",
       "      <td>5425.058140</td>\n",
       "      <td>9851.83</td>\n",
       "    </tr>\n",
       "    <tr>\n",
       "      <th>3</th>\n",
       "      <td>3</td>\n",
       "      <td>0.0</td>\n",
       "      <td>10</td>\n",
       "      <td>20160312</td>\n",
       "      <td>0.0</td>\n",
       "      <td>1.0</td>\n",
       "      <td>15.0</td>\n",
       "      <td>109.0</td>\n",
       "      <td>71865</td>\n",
       "      <td>0.0</td>\n",
       "      <td>...</td>\n",
       "      <td>0.000000</td>\n",
       "      <td>7125.0</td>\n",
       "      <td></td>\n",
       "      <td>13994.0</td>\n",
       "      <td>92900.0</td>\n",
       "      <td>15.0</td>\n",
       "      <td>5200.0</td>\n",
       "      <td>113034210.0</td>\n",
       "      <td>8244.695287</td>\n",
       "      <td>8076.76</td>\n",
       "    </tr>\n",
       "    <tr>\n",
       "      <th>4</th>\n",
       "      <td>4</td>\n",
       "      <td>1.0</td>\n",
       "      <td>5</td>\n",
       "      <td>20160313</td>\n",
       "      <td>0.0</td>\n",
       "      <td>0.0</td>\n",
       "      <td>5.0</td>\n",
       "      <td>110.0</td>\n",
       "      <td>111080</td>\n",
       "      <td>0.0</td>\n",
       "      <td>...</td>\n",
       "      <td>0.121534</td>\n",
       "      <td>1531.0</td>\n",
       "      <td>6</td>\n",
       "      <td>4662.0</td>\n",
       "      <td>31500.0</td>\n",
       "      <td>20.0</td>\n",
       "      <td>2300.0</td>\n",
       "      <td>15414322.0</td>\n",
       "      <td>3344.689763</td>\n",
       "      <td>3305.67</td>\n",
       "    </tr>\n",
       "    <tr>\n",
       "      <th>...</th>\n",
       "      <td>...</td>\n",
       "      <td>...</td>\n",
       "      <td>...</td>\n",
       "      <td>...</td>\n",
       "      <td>...</td>\n",
       "      <td>...</td>\n",
       "      <td>...</td>\n",
       "      <td>...</td>\n",
       "      <td>...</td>\n",
       "      <td>...</td>\n",
       "      <td>...</td>\n",
       "      <td>...</td>\n",
       "      <td>...</td>\n",
       "      <td>...</td>\n",
       "      <td>...</td>\n",
       "      <td>...</td>\n",
       "      <td>...</td>\n",
       "      <td>...</td>\n",
       "      <td>...</td>\n",
       "      <td>...</td>\n",
       "      <td>...</td>\n",
       "    </tr>\n",
       "    <tr>\n",
       "      <th>199032</th>\n",
       "      <td>199995</td>\n",
       "      <td>4.0</td>\n",
       "      <td>4</td>\n",
       "      <td>20160320</td>\n",
       "      <td>0.0</td>\n",
       "      <td>0.0</td>\n",
       "      <td>15.0</td>\n",
       "      <td>4.0</td>\n",
       "      <td>20903</td>\n",
       "      <td>0.0</td>\n",
       "      <td>...</td>\n",
       "      <td>0.004616</td>\n",
       "      <td>7261.0</td>\n",
       "      <td>3</td>\n",
       "      <td>16575.0</td>\n",
       "      <td>99999.0</td>\n",
       "      <td>12.0</td>\n",
       "      <td>5999.0</td>\n",
       "      <td>138279069.0</td>\n",
       "      <td>8089.863295</td>\n",
       "      <td>8342.13</td>\n",
       "    </tr>\n",
       "    <tr>\n",
       "      <th>199033</th>\n",
       "      <td>199996</td>\n",
       "      <td>0.0</td>\n",
       "      <td>0</td>\n",
       "      <td>20160329</td>\n",
       "      <td>0.0</td>\n",
       "      <td>0.0</td>\n",
       "      <td>15.0</td>\n",
       "      <td>0.0</td>\n",
       "      <td>708</td>\n",
       "      <td>0.0</td>\n",
       "      <td>...</td>\n",
       "      <td>0.025971</td>\n",
       "      <td>6014.0</td>\n",
       "      <td>1</td>\n",
       "      <td>31429.0</td>\n",
       "      <td>68500.0</td>\n",
       "      <td>13.0</td>\n",
       "      <td>3199.0</td>\n",
       "      <td>173719698.0</td>\n",
       "      <td>6261.371627</td>\n",
       "      <td>5527.19</td>\n",
       "    </tr>\n",
       "    <tr>\n",
       "      <th>199034</th>\n",
       "      <td>199997</td>\n",
       "      <td>0.0</td>\n",
       "      <td>1</td>\n",
       "      <td>20160305</td>\n",
       "      <td>1.0</td>\n",
       "      <td>1.0</td>\n",
       "      <td>15.0</td>\n",
       "      <td>49.0</td>\n",
       "      <td>6693</td>\n",
       "      <td>0.0</td>\n",
       "      <td>...</td>\n",
       "      <td>0.015669</td>\n",
       "      <td>4345.0</td>\n",
       "      <td>3</td>\n",
       "      <td>13656.0</td>\n",
       "      <td>84000.0</td>\n",
       "      <td>15.0</td>\n",
       "      <td>6399.0</td>\n",
       "      <td>124044603.0</td>\n",
       "      <td>8988.865406</td>\n",
       "      <td>9082.86</td>\n",
       "    </tr>\n",
       "    <tr>\n",
       "      <th>199035</th>\n",
       "      <td>199998</td>\n",
       "      <td>0.0</td>\n",
       "      <td>1</td>\n",
       "      <td>20160404</td>\n",
       "      <td>0.0</td>\n",
       "      <td>1.0</td>\n",
       "      <td>15.0</td>\n",
       "      <td>27.0</td>\n",
       "      <td>96900</td>\n",
       "      <td>0.0</td>\n",
       "      <td>...</td>\n",
       "      <td>0.051383</td>\n",
       "      <td>NaN</td>\n",
       "      <td>1</td>\n",
       "      <td>13656.0</td>\n",
       "      <td>84000.0</td>\n",
       "      <td>15.0</td>\n",
       "      <td>6399.0</td>\n",
       "      <td>124044603.0</td>\n",
       "      <td>8988.865406</td>\n",
       "      <td>9082.86</td>\n",
       "    </tr>\n",
       "    <tr>\n",
       "      <th>199036</th>\n",
       "      <td>199999</td>\n",
       "      <td>1.0</td>\n",
       "      <td>6</td>\n",
       "      <td>20160322</td>\n",
       "      <td>NaN</td>\n",
       "      <td>1.0</td>\n",
       "      <td>9.0</td>\n",
       "      <td>166.0</td>\n",
       "      <td>193384</td>\n",
       "      <td>0.0</td>\n",
       "      <td>...</td>\n",
       "      <td>0.124264</td>\n",
       "      <td>4151.0</td>\n",
       "      <td>3</td>\n",
       "      <td>10193.0</td>\n",
       "      <td>35990.0</td>\n",
       "      <td>13.0</td>\n",
       "      <td>1800.0</td>\n",
       "      <td>36457518.0</td>\n",
       "      <td>4562.233331</td>\n",
       "      <td>3576.37</td>\n",
       "    </tr>\n",
       "  </tbody>\n",
       "</table>\n",
       "<p>199037 rows × 41 columns</p>\n",
       "</div>"
      ],
      "text/plain": [
       "        SaleID  bodyType  brand  creatDate  fuelType  gearbox  kilometer  \\\n",
       "0            0       1.0      6   20160404       0.0      0.0       12.5   \n",
       "1            1       2.0      1   20160309       0.0      0.0       15.0   \n",
       "2            2       1.0     15   20160402       0.0      0.0       12.5   \n",
       "3            3       0.0     10   20160312       0.0      1.0       15.0   \n",
       "4            4       1.0      5   20160313       0.0      0.0        5.0   \n",
       "...        ...       ...    ...        ...       ...      ...        ...   \n",
       "199032  199995       4.0      4   20160320       0.0      0.0       15.0   \n",
       "199033  199996       0.0      0   20160329       0.0      0.0       15.0   \n",
       "199034  199997       0.0      1   20160305       1.0      1.0       15.0   \n",
       "199035  199998       0.0      1   20160404       0.0      1.0       15.0   \n",
       "199036  199999       1.0      6   20160322       NaN      1.0        9.0   \n",
       "\n",
       "        model    name notRepairedDamage  ...       v_9  used_time  city  \\\n",
       "0        30.0     736               0.0  ...  0.097462     4385.0     1   \n",
       "1        40.0    2262                 -  ...  0.020582     4757.0     4   \n",
       "2       115.0   14874               0.0  ...  0.027075     4382.0     2   \n",
       "3       109.0   71865               0.0  ...  0.000000     7125.0         \n",
       "4       110.0  111080               0.0  ...  0.121534     1531.0     6   \n",
       "...       ...     ...               ...  ...       ...        ...   ...   \n",
       "199032    4.0   20903               0.0  ...  0.004616     7261.0     3   \n",
       "199033    0.0     708               0.0  ...  0.025971     6014.0     1   \n",
       "199034   49.0    6693               0.0  ...  0.015669     4345.0     3   \n",
       "199035   27.0   96900               0.0  ...  0.051383        NaN     1   \n",
       "199036  166.0  193384               0.0  ...  0.124264     4151.0     3   \n",
       "\n",
       "        brand_amount  brand_price_max  brand_price_min  brand_price_median  \\\n",
       "0            10193.0          35990.0             13.0              1800.0   \n",
       "1            13656.0          84000.0             15.0              6399.0   \n",
       "2             1458.0          45000.0            100.0              8500.0   \n",
       "3            13994.0          92900.0             15.0              5200.0   \n",
       "4             4662.0          31500.0             20.0              2300.0   \n",
       "...              ...              ...              ...                 ...   \n",
       "199032       16575.0          99999.0             12.0              5999.0   \n",
       "199033       31429.0          68500.0             13.0              3199.0   \n",
       "199034       13656.0          84000.0             15.0              6399.0   \n",
       "199035       13656.0          84000.0             15.0              6399.0   \n",
       "199036       10193.0          35990.0             13.0              1800.0   \n",
       "\n",
       "        brand_price_sum  brand_price_std  brand_price_average  \n",
       "0            36457518.0      4562.233331              3576.37  \n",
       "1           124044603.0      8988.865406              9082.86  \n",
       "2            14373814.0      5425.058140              9851.83  \n",
       "3           113034210.0      8244.695287              8076.76  \n",
       "4            15414322.0      3344.689763              3305.67  \n",
       "...                 ...              ...                  ...  \n",
       "199032      138279069.0      8089.863295              8342.13  \n",
       "199033      173719698.0      6261.371627              5527.19  \n",
       "199034      124044603.0      8988.865406              9082.86  \n",
       "199035      124044603.0      8988.865406              9082.86  \n",
       "199036       36457518.0      4562.233331              3576.37  \n",
       "\n",
       "[199037 rows x 41 columns]"
      ]
     },
     "execution_count": 18,
     "metadata": {},
     "output_type": "execute_result"
    }
   ],
   "source": [
    "# brand_fe = pd.DataFrame(all_info)\n",
    "brand_fe = pd.DataFrame(all_info).T.reset_index().rename(columns={'index':'brand'})\n",
    "data = data.merge(brand_fe,how='left',on='brand')\n",
    "data"
   ]
  },
  {
   "cell_type": "code",
   "execution_count": 19,
   "metadata": {},
   "outputs": [
    {
     "data": {
      "text/html": [
       "<div>\n",
       "<style scoped>\n",
       "    .dataframe tbody tr th:only-of-type {\n",
       "        vertical-align: middle;\n",
       "    }\n",
       "\n",
       "    .dataframe tbody tr th {\n",
       "        vertical-align: top;\n",
       "    }\n",
       "\n",
       "    .dataframe thead th {\n",
       "        text-align: right;\n",
       "    }\n",
       "</style>\n",
       "<table border=\"1\" class=\"dataframe\">\n",
       "  <thead>\n",
       "    <tr style=\"text-align: right;\">\n",
       "      <th></th>\n",
       "      <th>power_bin</th>\n",
       "      <th>power</th>\n",
       "    </tr>\n",
       "  </thead>\n",
       "  <tbody>\n",
       "    <tr>\n",
       "      <th>0</th>\n",
       "      <td>5.0</td>\n",
       "      <td>60</td>\n",
       "    </tr>\n",
       "    <tr>\n",
       "      <th>1</th>\n",
       "      <td>NaN</td>\n",
       "      <td>0</td>\n",
       "    </tr>\n",
       "    <tr>\n",
       "      <th>2</th>\n",
       "      <td>16.0</td>\n",
       "      <td>163</td>\n",
       "    </tr>\n",
       "    <tr>\n",
       "      <th>3</th>\n",
       "      <td>19.0</td>\n",
       "      <td>193</td>\n",
       "    </tr>\n",
       "    <tr>\n",
       "      <th>4</th>\n",
       "      <td>6.0</td>\n",
       "      <td>68</td>\n",
       "    </tr>\n",
       "  </tbody>\n",
       "</table>\n",
       "</div>"
      ],
      "text/plain": [
       "   power_bin  power\n",
       "0        5.0     60\n",
       "1        NaN      0\n",
       "2       16.0    163\n",
       "3       19.0    193\n",
       "4        6.0     68"
      ]
     },
     "execution_count": 19,
     "metadata": {},
     "output_type": "execute_result"
    }
   ],
   "source": [
    "#数据分桶\n",
    "bin = [i*10 for i in range(31)]\n",
    "data['power_bin'] = pd.cut(data['power'], bin, labels=False)\n",
    "data[['power_bin', 'power']].head()"
   ]
  },
  {
   "cell_type": "code",
   "execution_count": 20,
   "metadata": {
    "scrolled": true
   },
   "outputs": [],
   "source": [
    "#删除不要的数据\n",
    "data = data.drop(['creatDate','regDate','regionCode'],axis=1)"
   ]
  },
  {
   "cell_type": "code",
   "execution_count": 21,
   "metadata": {},
   "outputs": [
    {
     "name": "stdout",
     "output_type": "stream",
     "text": [
      "(199037, 39)\n"
     ]
    },
    {
     "data": {
      "text/plain": [
       "Index(['SaleID', 'bodyType', 'brand', 'fuelType', 'gearbox', 'kilometer',\n",
       "       'model', 'name', 'notRepairedDamage', 'offerType', 'power', 'price',\n",
       "       'seller', 'train', 'v_0', 'v_1', 'v_10', 'v_11', 'v_12', 'v_13', 'v_14',\n",
       "       'v_2', 'v_3', 'v_4', 'v_5', 'v_6', 'v_7', 'v_8', 'v_9', 'used_time',\n",
       "       'city', 'brand_amount', 'brand_price_max', 'brand_price_min',\n",
       "       'brand_price_median', 'brand_price_sum', 'brand_price_std',\n",
       "       'brand_price_average', 'power_bin'],\n",
       "      dtype='object')"
      ]
     },
     "execution_count": 21,
     "metadata": {},
     "output_type": "execute_result"
    }
   ],
   "source": [
    "print(data.shape)\n",
    "data.columns"
   ]
  },
  {
   "cell_type": "code",
   "execution_count": 22,
   "metadata": {},
   "outputs": [],
   "source": [
    "#数据导出\n",
    "data.to_csv('data_for_tree.csv', index=0)"
   ]
  },
  {
   "cell_type": "code",
   "execution_count": 23,
   "metadata": {},
   "outputs": [],
   "source": [
    "#造一份新的数据"
   ]
  },
  {
   "cell_type": "code",
   "execution_count": 24,
   "metadata": {},
   "outputs": [
    {
     "data": {
      "text/plain": [
       "<matplotlib.axes._subplots.AxesSubplot at 0x1db8b877b88>"
      ]
     },
     "execution_count": 24,
     "metadata": {},
     "output_type": "execute_result"
    },
    {
     "data": {
      "image/png": "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\n",
      "text/plain": [
       "<Figure size 432x288 with 1 Axes>"
      ]
     },
     "metadata": {
      "needs_background": "light"
     },
     "output_type": "display_data"
    }
   ],
   "source": [
    "data['power'].plot.hist()"
   ]
  },
  {
   "cell_type": "code",
   "execution_count": 25,
   "metadata": {},
   "outputs": [
    {
     "data": {
      "text/plain": [
       "<matplotlib.axes._subplots.AxesSubplot at 0x1db94fbe388>"
      ]
     },
     "execution_count": 25,
     "metadata": {},
     "output_type": "execute_result"
    },
    {
     "data": {
      "image/png": "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\n",
      "text/plain": [
       "<Figure size 432x288 with 1 Axes>"
      ]
     },
     "metadata": {
      "needs_background": "light"
     },
     "output_type": "display_data"
    }
   ],
   "source": [
    "train_data['power'].plot.hist()"
   ]
  },
  {
   "cell_type": "markdown",
   "metadata": {},
   "source": [
    "test中的power分布有问题"
   ]
  },
  {
   "cell_type": "code",
   "execution_count": 26,
   "metadata": {},
   "outputs": [
    {
     "data": {
      "text/plain": [
       "<matplotlib.axes._subplots.AxesSubplot at 0x1db8ba6e948>"
      ]
     },
     "execution_count": 26,
     "metadata": {},
     "output_type": "execute_result"
    },
    {
     "data": {
      "image/png": "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\n",
      "text/plain": [
       "<Figure size 432x288 with 1 Axes>"
      ]
     },
     "metadata": {
      "needs_background": "light"
     },
     "output_type": "display_data"
    }
   ],
   "source": [
    "#对test中的power取log再做归一化\n",
    "from sklearn import preprocessing\n",
    "min_max_scaler = preprocessing.MinMaxScaler()\n",
    "data['power'] = np.log(data['power'] + 1)\n",
    "data['power'] = (data['power'] - np.min(data['power'])) / (np.max(data['power']) - np.min(data['power']))\n",
    "data['power'].plot.hist()"
   ]
  },
  {
   "cell_type": "code",
   "execution_count": 27,
   "metadata": {},
   "outputs": [
    {
     "data": {
      "text/plain": [
       "<matplotlib.axes._subplots.AxesSubplot at 0x1db8c639608>"
      ]
     },
     "execution_count": 27,
     "metadata": {},
     "output_type": "execute_result"
    },
    {
     "data": {
      "image/png": "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\n",
      "text/plain": [
       "<Figure size 432x288 with 1 Axes>"
      ]
     },
     "metadata": {
      "needs_background": "light"
     },
     "output_type": "display_data"
    }
   ],
   "source": [
    "#查看kilometer的分布\n",
    "data['kilometer'].plot.hist()\n",
    "#对kilometer直接做归一化\n",
    "data['kilometer'] = ((data['kilometer'] - np.min(data['kilometer'])) / (np.max(data['kilometer']) - np.min(data['kilometer'])))\n",
    "data['kilometer'].plot.hist()"
   ]
  },
  {
   "cell_type": "code",
   "execution_count": 60,
   "metadata": {},
   "outputs": [],
   "source": [
    "#对其他变量做归一化\n",
    "def max_min(x):\n",
    "    return (x - np.min(x)) / (np.max(x) - np.min(x))\n",
    "\n",
    "data['brand_amount'] = ((data['brand_amount'] - np.min(data['brand_amount'])) / \n",
    "                        (np.max(data['brand_amount']) - np.min(data['brand_amount'])))\n",
    "data['brand_price_average'] = ((data['brand_price_average'] - np.min(data['brand_price_average'])) / \n",
    "                               (np.max(data['brand_price_average']) - np.min(data['brand_price_average'])))\n",
    "data['brand_price_max'] = ((data['brand_price_max'] - np.min(data['brand_price_max'])) / \n",
    "                           (np.max(data['brand_price_max']) - np.min(data['brand_price_max'])))\n",
    "data['brand_price_median'] = ((data['brand_price_median'] - np.min(data['brand_price_median'])) /\n",
    "                              (np.max(data['brand_price_median']) - np.min(data['brand_price_median'])))\n",
    "data['brand_price_min'] = ((data['brand_price_min'] - np.min(data['brand_price_min'])) / \n",
    "                           (np.max(data['brand_price_min']) - np.min(data['brand_price_min'])))\n",
    "data['brand_price_std'] = ((data['brand_price_std'] - np.min(data['brand_price_std'])) / \n",
    "                           (np.max(data['brand_price_std']) - np.min(data['brand_price_std'])))\n",
    "data['brand_price_sum'] = ((data['brand_price_sum'] - np.min(data['brand_price_sum'])) / \n",
    "                           (np.max(data['brand_price_sum']) - np.min(data['brand_price_sum'])))"
   ]
  },
  {
   "cell_type": "code",
   "execution_count": 61,
   "metadata": {},
   "outputs": [],
   "source": [
    "# 对类别特征进行 OneEncoder\n",
    "data = pd.get_dummies(data, columns=['model', 'brand', 'bodyType', 'fuelType',\n",
    "                                     'gearbox', 'notRepairedDamage', 'power_bin'])"
   ]
  },
  {
   "cell_type": "code",
   "execution_count": 63,
   "metadata": {},
   "outputs": [
    {
     "data": {
      "text/plain": [
       "(199037, 370)"
      ]
     },
     "execution_count": 63,
     "metadata": {},
     "output_type": "execute_result"
    }
   ],
   "source": [
    "data.shape"
   ]
  },
  {
   "cell_type": "code",
   "execution_count": 64,
   "metadata": {},
   "outputs": [
    {
     "data": {
      "text/plain": [
       "Index(['SaleID', 'kilometer', 'name', 'offerType', 'power', 'price', 'seller',\n",
       "       'train', 'v_0', 'v_1',\n",
       "       ...\n",
       "       'power_bin_20.0', 'power_bin_21.0', 'power_bin_22.0', 'power_bin_23.0',\n",
       "       'power_bin_24.0', 'power_bin_25.0', 'power_bin_26.0', 'power_bin_27.0',\n",
       "       'power_bin_28.0', 'power_bin_29.0'],\n",
       "      dtype='object', length=370)"
      ]
     },
     "execution_count": 64,
     "metadata": {},
     "output_type": "execute_result"
    }
   ],
   "source": [
    "data.columns"
   ]
  },
  {
   "cell_type": "code",
   "execution_count": 65,
   "metadata": {},
   "outputs": [],
   "source": [
    "# 这份数据可以给 LR 用\n",
    "data.to_csv('data_for_lr.csv', index=0)"
   ]
  },
  {
   "cell_type": "markdown",
   "metadata": {},
   "source": [
    "### 特征筛选"
   ]
  },
  {
   "cell_type": "code",
   "execution_count": 29,
   "metadata": {},
   "outputs": [
    {
     "name": "stdout",
     "output_type": "stream",
     "text": [
      "0.5728285196051496\n",
      "-0.4082569701616764\n",
      "0.058156610025581514\n",
      "0.3834909576057687\n",
      "0.259066833880992\n",
      "0.38691042393409447\n"
     ]
    }
   ],
   "source": [
    "# 过滤式\n",
    "print(data['power'].corr(data['price'],method='spearman'))\n",
    "print(data['kilometer'].corr(data['price'],method='spearman'))\n",
    "print(data['brand_amount'].corr(data['price'],method='spearman'))\n",
    "print(data['brand_price_average'].corr(data['price'],method='spearman'))\n",
    "print(data['brand_price_max'].corr(data['price'],method='spearman'))\n",
    "print(data['brand_price_median'].corr(data['price'],method='spearman'))"
   ]
  },
  {
   "cell_type": "code",
   "execution_count": 30,
   "metadata": {},
   "outputs": [
    {
     "data": {
      "text/plain": [
       "<matplotlib.axes._subplots.AxesSubplot at 0x1db8e0c3b48>"
      ]
     },
     "execution_count": 30,
     "metadata": {},
     "output_type": "execute_result"
    },
    {
     "data": {
      "image/png": "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\n",
      "text/plain": [
       "<Figure size 504x504 with 2 Axes>"
      ]
     },
     "metadata": {
      "needs_background": "light"
     },
     "output_type": "display_data"
    }
   ],
   "source": [
    "data_numeric = data[['power', 'kilometer', 'brand_amount', 'brand_price_average', \n",
    "                     'brand_price_max', 'brand_price_median']]\n",
    "correlation = data_numeric.corr()\n",
    "\n",
    "f , ax = plt.subplots(figsize = (7, 7))\n",
    "plt.title('Correlation of Numeric Features with Price',y=1,size=16)\n",
    "sns.heatmap(correlation,square = True,  vmax=0.8)"
   ]
  },
  {
   "cell_type": "code",
   "execution_count": 31,
   "metadata": {},
   "outputs": [
    {
     "name": "stdout",
     "output_type": "stream",
     "text": [
      "Collecting mlxtend\n",
      "  Downloading https://files.pythonhosted.org/packages/64/e2/1610a86284029abcad0ac9bc86cb19f9787fe6448ede467188b2a5121bb4/mlxtend-0.17.2-py2.py3-none-any.whl (1.3MB)\n",
      "Requirement already satisfied: pandas>=0.24.2 in d:\\anaconda-install\\lib\\site-packages (from mlxtend) (0.25.3)\n",
      "Requirement already satisfied: setuptools in d:\\anaconda-install\\lib\\site-packages (from mlxtend) (42.0.2.post20191203)\n",
      "Requirement already satisfied: scikit-learn>=0.20.3 in d:\\anaconda-install\\lib\\site-packages (from mlxtend) (0.22)\n",
      "Requirement already satisfied: joblib>=0.13.2 in d:\\anaconda-install\\lib\\site-packages (from mlxtend) (0.14.1)\n",
      "Requirement already satisfied: matplotlib>=3.0.0 in d:\\anaconda-install\\lib\\site-packages (from mlxtend) (3.1.1)\n",
      "Requirement already satisfied: numpy>=1.16.2 in d:\\anaconda-install\\lib\\site-packages (from mlxtend) (1.18.1)\n",
      "Requirement already satisfied: scipy>=1.2.1 in d:\\anaconda-install\\lib\\site-packages (from mlxtend) (1.4.1)\n",
      "Requirement already satisfied: python-dateutil>=2.6.1 in d:\\anaconda-install\\lib\\site-packages (from pandas>=0.24.2->mlxtend) (2.8.1)\n",
      "Requirement already satisfied: pytz>=2017.2 in d:\\anaconda-install\\lib\\site-packages (from pandas>=0.24.2->mlxtend) (2019.3)\n",
      "Requirement already satisfied: cycler>=0.10 in d:\\anaconda-install\\lib\\site-packages (from matplotlib>=3.0.0->mlxtend) (0.10.0)\n",
      "Requirement already satisfied: kiwisolver>=1.0.1 in d:\\anaconda-install\\lib\\site-packages (from matplotlib>=3.0.0->mlxtend) (1.1.0)\n",
      "Requirement already satisfied: pyparsing!=2.0.4,!=2.1.2,!=2.1.6,>=2.0.1 in d:\\anaconda-install\\lib\\site-packages (from matplotlib>=3.0.0->mlxtend) (2.4.5)\n",
      "Requirement already satisfied: six>=1.5 in d:\\anaconda-install\\lib\\site-packages (from python-dateutil>=2.6.1->pandas>=0.24.2->mlxtend) (1.14.0)\n",
      "Installing collected packages: mlxtend\n",
      "Successfully installed mlxtend-0.17.2\n"
     ]
    }
   ],
   "source": [
    "#包裹式\n",
    "!pip install mlxtend"
   ]
  },
  {
   "cell_type": "code",
   "execution_count": null,
   "metadata": {},
   "outputs": [],
   "source": []
  }
 ],
 "metadata": {
  "kernelspec": {
   "display_name": "Python 3",
   "language": "python",
   "name": "python3"
  },
  "language_info": {
   "codemirror_mode": {
    "name": "ipython",
    "version": 3
   },
   "file_extension": ".py",
   "mimetype": "text/x-python",
   "name": "python",
   "nbconvert_exporter": "python",
   "pygments_lexer": "ipython3",
   "version": "3.7.5"
  }
 },
 "nbformat": 4,
 "nbformat_minor": 2
}
